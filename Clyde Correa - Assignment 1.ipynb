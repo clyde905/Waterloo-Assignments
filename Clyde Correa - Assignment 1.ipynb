{
 "cells": [
  {
   "cell_type": "markdown",
   "metadata": {},
   "source": [
    "Before you turn this assignment in, make sure everything runs as expected. \n",
    "\n",
    "You can either **restart the kernel** (in the menu bar, select Kernel $\\rightarrow$ Restart and Clear Output) and then **run all cells** (in the menu bar, select Cell $\\rightarrow$ Run All). \n",
    "Or, you can simply **clear the output for all cells** (in the menu bar, select Cell $\\rightarrow$ All Output $\\rightarrow$ Clear) and then **run all cells** (in the menu bar, select Cell $\\rightarrow$ Run All).\n",
    "\n",
    "---"
   ]
  },
  {
   "cell_type": "code",
   "execution_count": 692,
   "metadata": {},
   "outputs": [],
   "source": [
    "NAME = \"Clyde Correa\""
   ]
  },
  {
   "cell_type": "markdown",
   "metadata": {},
   "source": [
    "# Assignment 1 - Intro to Python\n",
    "\n",
    "(15 points)"
   ]
  },
  {
   "cell_type": "markdown",
   "metadata": {},
   "source": [
    "## Learning Outcomes\n",
    "\n",
    "In this assignment you will practice:\n",
    "\n",
    "- Basic Python syntax\n",
    "- Writing simple Python functions\n",
    "- Working with strings and dictionaries"
   ]
  },
  {
   "cell_type": "markdown",
   "metadata": {},
   "source": [
    "## Question #1: Count symbols\n",
    "\n",
    "(3 points)"
   ]
  },
  {
   "cell_type": "markdown",
   "metadata": {},
   "source": [
    "In this question, you are given a string `s` which represents a DNA string. The string `s` consists of symbols `'A', 'C', 'G',` and `'T'`. An example of a length 21 DNA string is `\"ATGCTTCAGAAAGGTCTTACG.\"` \n",
    "\n",
    "Your task is to write a code which will count the number of times each of the symbols `'A', 'C', 'G'`, and `'T'` occur in `s`. Your code should generate a **list of 4 integers** and **print it out**."
   ]
  },
  {
   "cell_type": "code",
   "execution_count": 693,
   "metadata": {},
   "outputs": [],
   "source": [
    "# Here is the DNA string:\n",
    "\n",
    "s = 'AGCTTTTCATTCTGACTGCAACGGGCAATATGTCTCTGTGTGGATTAAAAAAAGAGTGTCTGATAGCAGC'"
   ]
  },
  {
   "cell_type": "code",
   "execution_count": 694,
   "metadata": {},
   "outputs": [],
   "source": [
    "j,k,l,r = 0,0,0,0 #initial values for the counts of each letter"
   ]
  },
  {
   "cell_type": "code",
   "execution_count": 695,
   "metadata": {},
   "outputs": [],
   "source": [
    "# Type your code here\n",
    "'''for loop adds 1 to the value associated to each letter'''\n",
    "for i in s:\n",
    "    if i=='A':\n",
    "        j = j+1\n",
    "    elif i=='G':\n",
    "        k = k+1\n",
    "    elif i=='T':\n",
    "        l = l+1\n",
    "    else:\n",
    "        r = r+1"
   ]
  },
  {
   "cell_type": "code",
   "execution_count": 696,
   "metadata": {},
   "outputs": [
    {
     "name": "stdout",
     "output_type": "stream",
     "text": [
      "For each letter in s, the number of occurences are as follows: \n",
      "A:  20 , G:  17 , T:  21 , C:  12\n",
      "List of integers in the order above:  [20, 17, 21, 12] . We get a total of  70 as expected\n"
     ]
    }
   ],
   "source": [
    "print('For each letter in s, the number of occurences are as follows: \\n'\\\n",
    "      'A: ', j,', '\\\n",
    "      'G: ', k,', '\\\n",
    "      'T: ', l,', '\\\n",
    "      'C: ', r)\n",
    "list_of_int = [j,k,l,r]\n",
    "print('List of integers in the order above: ', list_of_int, '. We get a total of ', sum(list_of_int), 'as expected')"
   ]
  },
  {
   "cell_type": "markdown",
   "metadata": {},
   "source": [
    "## Question #2: Find a substring\n",
    "\n",
    "(4 points)"
   ]
  },
  {
   "cell_type": "markdown",
   "metadata": {},
   "source": [
    "You are given a dictionary of the US states and their capitals. The keys in the dictionary are states and the values are capital names.\n",
    "\n",
    "Write a code to return a **list of all capitals** that contain the name of a state in their name as a substring.\n",
    "\n",
    "**HINT:** For example, `Indianapolis` as a capital name and `Indiana` as a state name is one of the key/value pairs that your code would find. Your code should add `Indianapolis` to the list. After you found all capitals and added them to the list, print out the list."
   ]
  },
  {
   "cell_type": "code",
   "execution_count": 697,
   "metadata": {},
   "outputs": [
    {
     "data": {
      "text/plain": [
       "{'Alabama': 'Montgomery',\n",
       " 'Alaska': 'Juneau',\n",
       " 'Arizona': 'Phoenix',\n",
       " 'Arkansas': 'Little Rock',\n",
       " 'California': 'Sacramento',\n",
       " 'Colorado': 'Denver',\n",
       " 'Connecticut': 'Hartford',\n",
       " 'Delaware': 'Dover',\n",
       " 'Florida': 'Tallahassee',\n",
       " 'Georgia': 'Atlanta',\n",
       " 'Hawaii': 'Honolulu',\n",
       " 'Idaho': 'Boise',\n",
       " 'Illinios': 'Springfield',\n",
       " 'Indiana': 'Indianapolis',\n",
       " 'Iowa': 'Des Monies',\n",
       " 'Kansas': 'Topeka',\n",
       " 'Kentucky': 'Frankfort',\n",
       " 'Louisiana': 'Baton Rouge',\n",
       " 'Maine': 'Augusta',\n",
       " 'Maryland': 'Annapolis',\n",
       " 'Massachusetts': 'Boston',\n",
       " 'Michigan': 'Lansing',\n",
       " 'Minnesota': 'St. Paul',\n",
       " 'Mississippi': 'Jackson',\n",
       " 'Missouri': 'Jefferson City',\n",
       " 'Montana': 'Helena',\n",
       " 'Nebraska': 'Lincoln',\n",
       " 'Neveda': 'Carson City',\n",
       " 'New Hampshire': 'Concord',\n",
       " 'New Jersey': 'Trenton',\n",
       " 'New Mexico': 'Santa Fe',\n",
       " 'New York': 'Albany',\n",
       " 'North Carolina': 'Raleigh',\n",
       " 'North Dakota': 'Bismarck',\n",
       " 'Ohio': 'Columbus',\n",
       " 'Oklahoma': 'Oklahoma City',\n",
       " 'Oregon': 'Salem',\n",
       " 'Pennsylvania': 'Harrisburg',\n",
       " 'Rhoda Island': 'Providence',\n",
       " 'South Carolina': 'Columbia',\n",
       " 'South Dakota': 'Pierre',\n",
       " 'Tennessee': 'Nashville',\n",
       " 'Texas': 'Austin',\n",
       " 'Utah': 'Salt Lake City',\n",
       " 'Vermont': 'Montpelier',\n",
       " 'Virginia': 'Richmond',\n",
       " 'Washington': 'Olympia',\n",
       " 'West Virginia': 'Charleston',\n",
       " 'Wisconsin': 'Madison',\n",
       " 'Wyoming': 'Cheyenne'}"
      ]
     },
     "execution_count": 697,
     "metadata": {},
     "output_type": "execute_result"
    }
   ],
   "source": [
    "# Run this cell to create a dictionary of states' capitals\n",
    "capitals={\n",
    "    'Alabama': 'Montgomery',\n",
    "    'Alaska': 'Juneau',\n",
    "    'Arizona':'Phoenix',\n",
    "    'Arkansas':'Little Rock',\n",
    "    'California': 'Sacramento',\n",
    "    'Colorado':'Denver',\n",
    "    'Connecticut':'Hartford',\n",
    "    'Delaware':'Dover',\n",
    "    'Florida': 'Tallahassee',\n",
    "    'Georgia': 'Atlanta',\n",
    "    'Hawaii': 'Honolulu',\n",
    "    'Idaho': 'Boise',\n",
    "    'Illinios': 'Springfield',\n",
    "    'Indiana': 'Indianapolis',\n",
    "    'Iowa': 'Des Monies',\n",
    "    'Kansas': 'Topeka',\n",
    "    'Kentucky': 'Frankfort',\n",
    "    'Louisiana': 'Baton Rouge',\n",
    "    'Maine': 'Augusta',\n",
    "    'Maryland': 'Annapolis',\n",
    "    'Massachusetts': 'Boston',\n",
    "    'Michigan': 'Lansing',\n",
    "    'Minnesota': 'St. Paul',\n",
    "    'Mississippi': 'Jackson',\n",
    "    'Missouri': 'Jefferson City',\n",
    "    'Montana': 'Helena',\n",
    "    'Nebraska': 'Lincoln',\n",
    "    'Neveda': 'Carson City',\n",
    "    'New Hampshire': 'Concord',\n",
    "    'New Jersey': 'Trenton',\n",
    "    'New Mexico': 'Santa Fe',\n",
    "    'New York': 'Albany',\n",
    "    'North Carolina': 'Raleigh',\n",
    "    'North Dakota': 'Bismarck',\n",
    "    'Ohio': 'Columbus',\n",
    "    'Oklahoma': 'Oklahoma City',\n",
    "    'Oregon': 'Salem',\n",
    "    'Pennsylvania': 'Harrisburg',\n",
    "    'Rhoda Island': 'Providence',\n",
    "    'South Carolina': 'Columbia',\n",
    "    'South Dakota': 'Pierre',\n",
    "    'Tennessee': 'Nashville',\n",
    "    'Texas': 'Austin',\n",
    "    'Utah': 'Salt Lake City',\n",
    "    'Vermont': 'Montpelier',\n",
    "    'Virginia': 'Richmond',\n",
    "    'Washington': 'Olympia',\n",
    "    'West Virginia': 'Charleston',\n",
    "    'Wisconsin': 'Madison',\n",
    "    'Wyoming': 'Cheyenne'  \n",
    "}\n",
    "capitals"
   ]
  },
  {
   "cell_type": "code",
   "execution_count": 698,
   "metadata": {},
   "outputs": [],
   "source": [
    "# Your code here"
   ]
  },
  {
   "cell_type": "code",
   "execution_count": 699,
   "metadata": {},
   "outputs": [
    {
     "data": {
      "text/plain": [
       "['Indianapolis', 'Oklahoma City']"
      ]
     },
     "execution_count": 699,
     "metadata": {},
     "output_type": "execute_result"
    }
   ],
   "source": [
    "updated_list = [] #create empty list to store capitals with state names\n",
    "list_of_capitals = list(capitals.values()) #create list containing capital names \n",
    "list_of_states = list(capitals.keys()) #create list containing states names \n",
    "'''Nested for loop'''\n",
    "for i in range(len(list_of_states)): \n",
    "    for item in list_of_states:\n",
    "        if item in list_of_capitals[i]: #condition if capital contains states name\n",
    "            updated_list.append(list_of_capitals[i]) #adds states name to updated_list\n",
    "        else:\n",
    "            pass #does nothing\n",
    "updated_list"
   ]
  },
  {
   "cell_type": "markdown",
   "metadata": {},
   "source": [
    "## Question #3: Is a data point within a rectangle?\n",
    "\n",
    "(4 points)"
   ]
  },
  {
   "cell_type": "markdown",
   "metadata": {},
   "source": [
    "Write a function `isIn()` which returns **boolean `True`** if a point is within a rectangle specified by two sets of coordinates and **boolean `False`** if the point is outside the rectangle. The function should accept three parameters:\n",
    "- the first parameter is a set of coordinates which defines one of the corners of the rectangle, \n",
    "- the second parameter is also a set of coordinates that defines the second corner,\n",
    "- the third set of coordinates defines a single point which is being tested.\n",
    "\n",
    "For example, \n",
    "- `isIn((1,2), (3,4), (1.5, 3.2))` should return `True`, \n",
    "- `isIn((4,3.5), (2,1), (3, 2))` should return `True`, \n",
    "- `isIn((-1,0), (5,5), (6,0))` should return `False`,\n",
    "- `isIn((4,1), (2,4), (2.5,4.5))` should return `False`.\n",
    "\n",
    "Test your function with at least 2 different sets of data points in addition to the examples above.\n",
    "\n",
    "**NOTES:** \n",
    "1. If the point being tested is on the side of the rectangle, consider it to be within the rectangle. For example, if the rectangle is defined as `(1,2), (3,4)` and the point is `(2,2)`, the function should return `True`.\n",
    "2. In this assignment, we assume that the edges of the rectangle are parallel to coordinate axes.\n",
    "3. We also assume that the first parameter does not always represent the left corner of the rectangle and the second parameter is not always the right corner. The function should work correctly either way. Please note the second test condition above where the first parameter, `(4,3.5)`, represents the top-right corner and the second parameter, `(2,1)`, represents left-bottom corner. "
   ]
  },
  {
   "cell_type": "code",
   "execution_count": 700,
   "metadata": {},
   "outputs": [],
   "source": [
    "def isIn(firstCorner, secondCorner, point):\n",
    "    '''First we should construct the rectangle and display the values of each parameter as tuples'''\n",
    "    (x1,y1) = firstCorner \n",
    "    (x2,y2) = secondCorner\n",
    "    (x,y) = point\n",
    "    '''Construct the rectangle'''\n",
    "    left = min(x1,x2)\n",
    "    down = min(y1,y2)\n",
    "    up = max(y1,y2)\n",
    "    right = max(x1,x2)\n",
    "    '''Determine conditions when point is in the rectangle or not'''\n",
    "    if x<left or x>right or y<down or y>up:\n",
    "        return False\n",
    "    else:\n",
    "        return True"
   ]
  },
  {
   "cell_type": "markdown",
   "metadata": {},
   "source": [
    "#### Now to see if it works for the examples stated above"
   ]
  },
  {
   "cell_type": "code",
   "execution_count": 701,
   "metadata": {},
   "outputs": [
    {
     "name": "stdout",
     "output_type": "stream",
     "text": [
      "True \n",
      " True \n",
      " False \n",
      " False\n"
     ]
    }
   ],
   "source": [
    "print(isIn((1,2), (3,4), (1.5, 3.2)), '\\n', isIn((4,3.5), (2,1), (3, 2)), '\\n', \\\n",
    "     isIn((-1,0), (5,5), (6,0)), '\\n', isIn((4,1), (2,4), (2.5,4.5)))"
   ]
  },
  {
   "cell_type": "markdown",
   "metadata": {},
   "source": [
    "**Now for my own examples**"
   ]
  },
  {
   "cell_type": "code",
   "execution_count": 702,
   "metadata": {},
   "outputs": [
    {
     "name": "stdout",
     "output_type": "stream",
     "text": [
      "True \n",
      " True\n"
     ]
    }
   ],
   "source": [
    "print(isIn((1,2), (2,1), (1.82, 1.5)), '\\n', isIn((1,2), (5,7), (4, 3.99)))"
   ]
  },
  {
   "cell_type": "markdown",
   "metadata": {},
   "source": [
    "## Question #4: Are all points within a rectangle?\n",
    "\n",
    "(4 points)"
   ]
  },
  {
   "cell_type": "markdown",
   "metadata": {},
   "source": [
    "Modify your function from the previous question so it takes a list of points rather than a single point and returns **boolean `True`** only if all points in the list are in the rectangle.\n",
    "\n",
    "For example,\n",
    "\n",
    "- `allIn((0,0), (5,5), [(1,1), (0,0), (5,5)])` should return `True`\n",
    "- but `allIn((0,0), (5,5), [(1,1), (0,0), (5,6)])` should return `False`\n",
    "- empty list of points `allIn((0,0), (5,5), [])` should return `False`\n",
    "\n",
    "Use the same assumptions as above about the placement of the points and how rectangle is defined. Make sure that your function returns `False` for empty list of points (no values).\n",
    "\n",
    "Test your function with at least 3 different sets of data points."
   ]
  },
  {
   "cell_type": "code",
   "execution_count": 703,
   "metadata": {},
   "outputs": [],
   "source": [
    "def allIn(firstCorner = (0,0), secondCorner=(0,0), pointList = []):\n",
    "    '''Create the rectangle'''\n",
    "    x1 = firstCorner[0]\n",
    "    x2 = secondCorner[0]\n",
    "    y1 = firstCorner[1]\n",
    "    y2 = secondCorner[1]\n",
    "    \n",
    "    '''Determine the bottom right and top left corners of the rectangle'''\n",
    "    topleft = (min(x1,x2),max(y1,y2))\n",
    "    bottomright = (max(x1,x2),min(y1,y2))\n",
    "    \n",
    "    '''Determine outputs corresponding to the points location'''\n",
    "    arg = False\n",
    "    for i in range(len(pointList)):\n",
    "        x = pointList[i][0] #takes the first element in each tuple in pointList as x\n",
    "        y = pointList[i][1] #takes the second element in each tuple in pointList as y\n",
    "        \n",
    "        if (x<topleft[0] and x>bottomright[0] and y>topleft[1] or y<bottomright[1]):\n",
    "            arg = False #If the point lies outside the rectangle \n",
    "        elif (x>=topleft[0] and x<=bottomright[0] and y<=topleft[1] and y>=bottomright[1]):\n",
    "            arg = True #if the point lies inside the rectangle\n",
    "        else:\n",
    "            return False #if the list is empty returns false\n",
    "    return arg"
   ]
  },
  {
   "cell_type": "markdown",
   "metadata": {},
   "source": [
    "**Lets try it on the examples shown above to test if the code works properly**"
   ]
  },
  {
   "cell_type": "code",
   "execution_count": 704,
   "metadata": {
    "scrolled": true
   },
   "outputs": [
    {
     "data": {
      "text/plain": [
       "True"
      ]
     },
     "execution_count": 704,
     "metadata": {},
     "output_type": "execute_result"
    }
   ],
   "source": [
    "allIn((0,0), (5,5), [(1,1), (0,0), (5,5)])"
   ]
  },
  {
   "cell_type": "code",
   "execution_count": 705,
   "metadata": {},
   "outputs": [
    {
     "data": {
      "text/plain": [
       "False"
      ]
     },
     "execution_count": 705,
     "metadata": {},
     "output_type": "execute_result"
    }
   ],
   "source": [
    "allIn((0,0), (5,5), [(1,1),(0,0),(5,6)])"
   ]
  },
  {
   "cell_type": "code",
   "execution_count": 707,
   "metadata": {},
   "outputs": [
    {
     "data": {
      "text/plain": [
       "False"
      ]
     },
     "execution_count": 707,
     "metadata": {},
     "output_type": "execute_result"
    }
   ],
   "source": [
    "allIn((0,0), (5,5), [])"
   ]
  },
  {
   "cell_type": "code",
   "execution_count": 708,
   "metadata": {},
   "outputs": [
    {
     "data": {
      "text/plain": [
       "True"
      ]
     },
     "execution_count": 708,
     "metadata": {},
     "output_type": "execute_result"
    }
   ],
   "source": [
    "allIn((0,0), (5,5), [(3,2),(0,0),(4,2),(3,2),(0,0),(4,2)])"
   ]
  }
 ],
 "metadata": {
  "kernelspec": {
   "display_name": "Python 3",
   "language": "python",
   "name": "python3"
  },
  "language_info": {
   "codemirror_mode": {
    "name": "ipython",
    "version": 3
   },
   "file_extension": ".py",
   "mimetype": "text/x-python",
   "name": "python",
   "nbconvert_exporter": "python",
   "pygments_lexer": "ipython3",
   "version": "3.7.4"
  },
  "toc": {
   "base_numbering": 1,
   "nav_menu": {},
   "number_sections": false,
   "sideBar": true,
   "skip_h1_title": false,
   "title_cell": "Table of Contents",
   "title_sidebar": "Contents",
   "toc_cell": false,
   "toc_position": {},
   "toc_section_display": true,
   "toc_window_display": false
  }
 },
 "nbformat": 4,
 "nbformat_minor": 2
}
